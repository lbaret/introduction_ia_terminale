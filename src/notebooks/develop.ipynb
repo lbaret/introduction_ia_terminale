{
 "cells": [
  {
   "cell_type": "markdown",
   "metadata": {},
   "source": [
    "# Introduction en Intelligence Artificielle\n",
    "\n",
    "Bienvenue dans ce notebook, je vais tenter de vous introduire au domaine de l'**intelligence artificielle** (alias IA).\n",
    "\n",
    "## Comment définir le terme intelligence artificielle ? C'est quoi une IA ?\n",
    "\n",
    "L'intelligence artificielle n'est autre que la construction et l'utilisation d'**algorithmes** qui vont **aider**/**soutenir** une personne dans son travail/quotidien. Autrement dit, de **réduire la charge mentale/physique** d'une personne.  \n",
    "En une phrase, nous parlons de **systèmes décisionnels** car ces algorithmes ont la responsabilité de prendre des décisions.\n",
    "\n",
    "## Ok mais à quoi ça sert ?\n",
    "Excellente question ! Il faut savoir que c'est un domaine qui est un **croisement de toutes les sciences** que nous connaissons aujourd'hui. En effet, l'**IA** peut être utilisé dans tous les domaines scientifiques, aussi bien en **physique** (ex : modélisation des phénomènes, simulation), en **chimie** (ex : découverte de propriétés chimiques) qu'en **médecine** (ex : diagnostique de cancer de la peau).\n",
    "\n",
    "Vous l'aurez compris, avec l'intelligence artificielle nous avons une infinité de possibilité et de projets intéressants, mystérieux et stimulants.\n",
    "\n",
    "## Suis-je moi même exposé à l'intelligence artificielle ?\n",
    "Nous y faisons face au quotidien ... Avez vous un **smartphone** ? Êtes vous inscris sur **Facebook** ? Commandez vous sur **Amazon** ? Naviguez vous avec **Google** ? Jouez-vous aux **jeux-vidéos** ?  \n",
    "Bon ok, j'arrête avec mes questions stupides, je vais plutôt vous apporter les réponses à ses questions, et je vais même aller plus loin en vous présentant des sujets d'actualités autant *délirant* que *fous* !\n",
    "\n",
    "1. Les smartphones, et plus généralement les ordinateurs. Prenez l'exemple de **SIRI** sur iPhone, vos demandes vocales sont analysées par un **modèle** (ou algorithme) d'IA afin de les comprendre et d'y répondre au mieux. Il en va de même pour **cortana** sur un ordinateur fonctionnant sur Windows 10/11. \n",
    "\n",
    "2. Facebook et Amazon sont deux entreprises qui collectent et analyse vos données afin de vous **recommander** du contenu adapté à vos goûts, que ce soit la dernière carte graphique à acheter sur Amazon, où un article sur les derniers résultats de la KCorp sur Facebook.\n",
    "\n",
    "3. Google ... Le mal ou le bien ? Nombreuses sont les personnes qui clament que Google vous connaissent mieux que vos propres parents. En effet, au travers de vos recherches, Google accumule des informations sur vous et sont capables de **dresser votre profil** afin de mieux vous **cibler les publicités**.\n",
    "\n",
    "4. Les jeux-vidéos oui ! Quand vous jouez à GTA V et que vous placez un point de repère sur la carte. Le parcours le plus court à suivre est calculé à l'aide d'un algorithme d'IA. Plus classique, je peux vous citer les monstres que vous combattez dans Elden Ring, vos adversaires dans Takken ou bien les ennemis dans Call of Duty.\n",
    "\n",
    "## L'IA c'est aussi ça\n",
    "*Ah ouais quand même, c'est pas rien ! T'as pas plus excitant comme applications ?*  \n",
    "Bon si vous le demandez, parlons des modèles les plus surprenants !\n",
    "\n",
    "1. Quel est le point commun entre ces deux personnes ?  \n",
    "<img src=\"../../images/person_1.jpeg\" alt=\"drawing\" width=\"200\"/>\n",
    "<img src=\"../../images/person_2.jpeg\" alt=\"drawing\" width=\"200\"/>\n",
    "\n",
    "<details>\n",
    "    <summary>Réponse</summary>\n",
    "    Elles n'existent tout simplement pas ! Ces visages ont été générées aléatoirement par un algorithme.</br>\n",
    "    <a href=\"https://thispersondoesnotexist.com/\">Pour en voir plus</a>\n",
    "</details>\n",
    "\n",
    "2. Des oeuvres d'arts générés par un algorithme  \n",
    "On décrit ce que l'on souhaite généré, par exemple *un fauteuil en forme d'avocat* et on observe les résultats :  \n",
    "<img src=\"../../images/chaise_avocat_1.png\" alt=\"drawing\" width=\"150\"/>\n",
    "<img src=\"../../images/chaise_avocat_2.png\" alt=\"drawing\" width=\"150\"/>\n",
    "<img src=\"../../images/chaise_avocat_3.png\" alt=\"drawing\" width=\"150\"/>[  \n",
    "[Site source](https://openai.com/blog/dall-e/)\n",
    "\n",
    "3. Une petite vidéo de bagnoles pour changer  \n",
    "[Vidéo voiture autonome (Tesla)](https://www.youtube.com/watch?v=tlThdr3O5Qo)\n",
    "\n",
    "4. On peut aussi s'imaginer converser avec un robot un jour :  \n",
    "Des modèles permettent de comprendre le langage, on pourrait communiquer avec ou avoir des réponses à nos questions existentielles. Exemple avec un modèle de langue français :  \n",
    "Saisie : `Le camembert est un <à deviner>`.  \n",
    "Réponse du modèle : fromage, produit, dessert, aliment, incontournable."
   ]
  },
  {
   "cell_type": "markdown",
   "metadata": {},
   "source": [
    "## Passons aux choses sérieuses, construisons notre premier modèle !\n",
    "\n",
    "TODO : Parler des mathématiques"
   ]
  },
  {
   "cell_type": "code",
   "execution_count": 1,
   "metadata": {},
   "outputs": [
    {
     "name": "stdout",
     "output_type": "stream",
     "text": [
      "Downloading diabetes-data-set.zip to ../../data\n",
      "  0%|                                               | 0.00/8.91k [00:00<?, ?B/s]\n",
      "100%|██████████████████████████████████████| 8.91k/8.91k [00:00<00:00, 2.43MB/s]\n"
     ]
    }
   ],
   "source": [
    "!kaggle datasets download -d mathchi/diabetes-data-set -p ../../data/"
   ]
  }
 ],
 "metadata": {
  "interpreter": {
   "hash": "90bd51f7c12049001d21e46f5a505cfb5494aab2ee0ad514c9c030a096e1519d"
  },
  "kernelspec": {
   "display_name": "Python 3.9.6 ('introduction-ia-terminale-FEK24HKi-py3.9')",
   "language": "python",
   "name": "python3"
  },
  "language_info": {
   "codemirror_mode": {
    "name": "ipython",
    "version": 3
   },
   "file_extension": ".py",
   "mimetype": "text/x-python",
   "name": "python",
   "nbconvert_exporter": "python",
   "pygments_lexer": "ipython3",
   "version": "3.9.12"
  },
  "orig_nbformat": 4
 },
 "nbformat": 4,
 "nbformat_minor": 2
}
