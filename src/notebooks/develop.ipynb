{
 "cells": [
  {
   "cell_type": "code",
   "execution_count": 1,
   "metadata": {},
   "outputs": [
    {
     "name": "stderr",
     "output_type": "stream",
     "text": [
      "/home/loic/.cache/pypoetry/virtualenvs/introduction-ia-terminale-FEK24HKi-py3.9/lib/python3.9/site-packages/tqdm/auto.py:22: TqdmWarning: IProgress not found. Please update jupyter and ipywidgets. See https://ipywidgets.readthedocs.io/en/stable/user_install.html\n",
      "  from .autonotebook import tqdm as notebook_tqdm\n"
     ]
    }
   ],
   "source": [
    "from typing import Tuple\n",
    "\n",
    "import random\n",
    "import zipfile\n",
    "import pandas as pd\n",
    "\n",
    "import numpy as np\n",
    "import torch\n",
    "import torch.nn as nn\n",
    "import torch.nn.functional as F\n",
    "from torch.utils.data import DataLoader, random_split\n",
    "import pytorch_lightning as pl\n",
    "\n",
    "from torchvision.datasets import MNIST\n",
    "from torchvision.transforms import ToTensor\n",
    "\n",
    "import matplotlib.pyplot as plt\n",
    "\n",
    "from sklearn.linear_model import LogisticRegression\n",
    "from sklearn.model_selection import train_test_split\n",
    "from sklearn.metrics import accuracy_score"
   ]
  },
  {
   "cell_type": "markdown",
   "metadata": {},
   "source": [
    "# Introduction en Intelligence Artificielle\n",
    "\n",
    "Bienvenue dans ce notebook, je vais tenter de vous introduire au domaine de l'**intelligence artificielle** (alias IA).\n",
    "\n",
    "## Comment définir le terme intelligence artificielle ? C'est quoi une IA ?\n",
    "\n",
    "L'intelligence artificielle n'est autre que la construction et l'utilisation d'**algorithmes** qui vont **aider**/**soutenir** une personne dans son travail/quotidien. Autrement dit, de **réduire la charge mentale/physique** d'une personne.  \n",
    "En une phrase, nous parlons de **systèmes décisionnels** car ces algorithmes ont la responsabilité de prendre des décisions.\n",
    "\n",
    "## Ok mais à quoi ça sert ?\n",
    "Excellente question ! Il faut savoir que c'est un domaine qui est un **croisement de toutes les sciences** que nous connaissons aujourd'hui. En effet, l'**IA** peut être utilisé dans tous les domaines scientifiques, aussi bien en **physique** (ex : modélisation des phénomènes, simulation), en **chimie** (ex : découverte de propriétés chimiques) qu'en **médecine** (ex : diagnostique de cancer de la peau).\n",
    "\n",
    "Vous l'aurez compris, avec l'intelligence artificielle nous avons une infinité de possibilité et de projets intéressants, mystérieux et stimulants.\n",
    "\n",
    "## Suis-je moi même exposé à l'intelligence artificielle ?\n",
    "Nous y faisons face au quotidien ... Avez vous un **smartphone** ? Êtes vous inscris sur **Facebook** ? Commandez vous sur **Amazon** ? Naviguez vous avec **Google** ? Jouez-vous aux **jeux-vidéos** ?  \n",
    "Bon ok, j'arrête avec mes questions stupides, je vais plutôt vous apporter les réponses à ses questions, et je vais même aller plus loin en vous présentant des sujets d'actualités autant *délirant* que *fous* !\n",
    "\n",
    "1. Les smartphones, et plus généralement les ordinateurs. Prenez l'exemple de **SIRI** sur iPhone, vos demandes vocales sont analysées par un **modèle** (ou algorithme) d'IA afin de les comprendre et d'y répondre au mieux. Il en va de même pour **cortana** sur un ordinateur fonctionnant sur Windows 10/11. \n",
    "\n",
    "2. Facebook et Amazon sont deux entreprises qui collectent et analyse vos données afin de vous **recommander** du contenu adapté à vos goûts, que ce soit la dernière carte graphique à acheter sur Amazon, où un article sur les derniers résultats de la KCorp sur Facebook.\n",
    "\n",
    "3. Google ... Le mal ou le bien ? Nombreuses sont les personnes qui clament que Google vous connaissent mieux que vos propres parents. En effet, au travers de vos recherches, Google accumule des informations sur vous et sont capables de **dresser votre profil** afin de mieux vous **cibler les publicités**.\n",
    "\n",
    "4. Les jeux-vidéos oui ! Quand vous jouez à GTA V et que vous placez un point de repère sur la carte. Le parcours le plus court à suivre est calculé à l'aide d'un algorithme d'IA. Plus classique, je peux vous citer les monstres que vous combattez dans Elden Ring, vos adversaires dans Takken ou bien les ennemis dans Call of Duty.\n",
    "\n",
    "## L'IA c'est aussi ça\n",
    "*Ah ouais quand même, c'est pas rien ! T'as pas plus excitant comme applications ?*  \n",
    "Bon si vous le demandez, parlons des modèles les plus surprenants !\n",
    "\n",
    "1. Quel est le point commun entre ces deux personnes ?  \n",
    "<img src=\"../../images/person_1.jpeg\" alt=\"drawing\" width=\"200\"/>\n",
    "<img src=\"../../images/person_2.jpeg\" alt=\"drawing\" width=\"200\"/>\n",
    "\n",
    "<details>\n",
    "    <summary>Réponse</summary>\n",
    "    Elles n'existent tout simplement pas ! Ces visages ont été générées aléatoirement par un algorithme.</br>\n",
    "    <a href=\"https://thispersondoesnotexist.com/\">Pour en voir plus</a>\n",
    "</details>\n",
    "\n",
    "2. Des oeuvres d'arts générés par un algorithme  \n",
    "On décrit ce que l'on souhaite généré, par exemple *un fauteuil en forme d'avocat* et on observe les résultats :  \n",
    "<img src=\"../../images/chaise_avocat_1.png\" alt=\"drawing\" width=\"150\"/>\n",
    "<img src=\"../../images/chaise_avocat_2.png\" alt=\"drawing\" width=\"150\"/>\n",
    "<img src=\"../../images/chaise_avocat_3.png\" alt=\"drawing\" width=\"150\"/>[  \n",
    "[Site source](https://openai.com/blog/dall-e/)\n",
    "\n",
    "3. Une petite vidéo de bagnoles pour changer  \n",
    "[Vidéo voiture autonome (Tesla)](https://www.youtube.com/watch?v=tlThdr3O5Qo)\n",
    "\n",
    "4. On peut aussi s'imaginer converser avec un robot un jour :  \n",
    "Des modèles permettent de comprendre le langage, on pourrait communiquer avec ou avoir des réponses à nos questions existentielles. Exemple avec un modèle de langue français :  \n",
    "Saisie : `Le camembert est un <à deviner>`.  \n",
    "Réponse du modèle : fromage, produit, dessert, aliment, incontournable."
   ]
  },
  {
   "cell_type": "markdown",
   "metadata": {},
   "source": [
    "## Passons aux choses sérieuses, construisons notre premier modèle !\n",
    "\n",
    "Hop hop hop, avant de se lancer dans le coeur de l'intelligence artificielle, il est important de mentionner que bien que ce soit un croisement des domaines scientifiques, l'accès à ce domaine spécifique est large. Si vous voulez travailler dans le domaine, **plusieurs voies sont possibles**, les profils sont divers et variés et ont majoritairement suivi ces formations :\n",
    "- *Informatique*\n",
    "- *Physique*\n",
    "- *Éléctronique*\n",
    "- *Mathématiques*\n",
    "\n",
    "Le point commun de tous ces domaines sont les **mathématiques**. C'est de mon point de vue, le meilleur domaine d'application des mathématiques. En effet, bien que les mathématiques soient (à tord) détester des élèves, l'IA est l'un des rares domaines qui va vous faire aimer les maths !\n",
    "\n",
    "Si je vous prends un exemple, les fonctions affines de la forme : $y = ax + b$ est à la base de beaucoup de modèles/algorithmes en IA ! On en verra un cas d'exemple un peu plus tard !  \n",
    "Sinon $y = ax + b$ est **LA BASE** dans l'un des domaines que vous avez sûrement dû entendre parler ... Les **réseaux de neurones** !"
   ]
  },
  {
   "cell_type": "markdown",
   "metadata": {},
   "source": [
    "### Première étude de cas sur le diabète\n",
    "\n",
    "J'ai oublié de vous parler de l'**or** des professionnels en intelligence artificielle : **les données**.  \n",
    "[Les données ne sont autres que des informations qui sont utilisés dans le but d'être traitées informatiquement](https://www.larousse.fr/dictionnaires/francais/donn%C3%A9e/26436).\n",
    "\n",
    "Je préfère plutôt décrire les données comme un ensemble de mesures décrivant un concept.\n",
    "\n",
    "**Dans notre cas quelles données allons nous utiliser ?**  \n",
    "Excellente question ! Dans ce premier cas de figure, nous utiliserons des données de santé, et plus précisément sur le diabète !  \n",
    "Attention, je ne me prétends pas médecin, **mais** j'utilise des mesures d'une expérimentation effectuée dans un cadre médicale et scientifique. Nos conclusions peuvent être tout à fait honnête et qui va dans le sens de nos données. Autrement dit, sans être expert, juste avec les bonnes données, nous pouvons étudier et tirer des conclusions sur des phénomènes qui seraient potentiellement liés. C'est l'une des raisons qui poussent les entreprises à avoir besoin de nous au quotidien."
   ]
  },
  {
   "cell_type": "code",
   "execution_count": 2,
   "metadata": {},
   "outputs": [
    {
     "name": "stdout",
     "output_type": "stream",
     "text": [
      "diabetes-data-set.zip: Skipping, found more recently modified local copy (use --force to force download)\n"
     ]
    }
   ],
   "source": [
    "# Téléchargement, extraction et chargement des données sur le diabète\n",
    "!kaggle datasets download -d mathchi/diabetes-data-set -p ../../data/\n",
    "\n",
    "with zipfile.ZipFile('../../data/diabetes-data-set.zip', 'r') as zip_ref:\n",
    "    zip_ref.extract('diabetes.csv', path='../../data/')\n",
    "\n",
    "df = pd.read_csv('../../data/diabetes.csv')"
   ]
  },
  {
   "cell_type": "markdown",
   "metadata": {},
   "source": [
    "Maintenant que nous avons ouvert nos données, regardons à quoi elles ressemblent un peu plus en détail."
   ]
  },
  {
   "cell_type": "code",
   "execution_count": 3,
   "metadata": {},
   "outputs": [
    {
     "data": {
      "text/html": [
       "<div>\n",
       "<style scoped>\n",
       "    .dataframe tbody tr th:only-of-type {\n",
       "        vertical-align: middle;\n",
       "    }\n",
       "\n",
       "    .dataframe tbody tr th {\n",
       "        vertical-align: top;\n",
       "    }\n",
       "\n",
       "    .dataframe thead th {\n",
       "        text-align: right;\n",
       "    }\n",
       "</style>\n",
       "<table border=\"1\" class=\"dataframe\">\n",
       "  <thead>\n",
       "    <tr style=\"text-align: right;\">\n",
       "      <th></th>\n",
       "      <th>Pregnancies</th>\n",
       "      <th>Glucose</th>\n",
       "      <th>BloodPressure</th>\n",
       "      <th>SkinThickness</th>\n",
       "      <th>Insulin</th>\n",
       "      <th>BMI</th>\n",
       "      <th>DiabetesPedigreeFunction</th>\n",
       "      <th>Age</th>\n",
       "      <th>Outcome</th>\n",
       "    </tr>\n",
       "  </thead>\n",
       "  <tbody>\n",
       "    <tr>\n",
       "      <th>0</th>\n",
       "      <td>6</td>\n",
       "      <td>148</td>\n",
       "      <td>72</td>\n",
       "      <td>35</td>\n",
       "      <td>0</td>\n",
       "      <td>33.6</td>\n",
       "      <td>0.627</td>\n",
       "      <td>50</td>\n",
       "      <td>1</td>\n",
       "    </tr>\n",
       "    <tr>\n",
       "      <th>1</th>\n",
       "      <td>1</td>\n",
       "      <td>85</td>\n",
       "      <td>66</td>\n",
       "      <td>29</td>\n",
       "      <td>0</td>\n",
       "      <td>26.6</td>\n",
       "      <td>0.351</td>\n",
       "      <td>31</td>\n",
       "      <td>0</td>\n",
       "    </tr>\n",
       "    <tr>\n",
       "      <th>2</th>\n",
       "      <td>8</td>\n",
       "      <td>183</td>\n",
       "      <td>64</td>\n",
       "      <td>0</td>\n",
       "      <td>0</td>\n",
       "      <td>23.3</td>\n",
       "      <td>0.672</td>\n",
       "      <td>32</td>\n",
       "      <td>1</td>\n",
       "    </tr>\n",
       "    <tr>\n",
       "      <th>3</th>\n",
       "      <td>1</td>\n",
       "      <td>89</td>\n",
       "      <td>66</td>\n",
       "      <td>23</td>\n",
       "      <td>94</td>\n",
       "      <td>28.1</td>\n",
       "      <td>0.167</td>\n",
       "      <td>21</td>\n",
       "      <td>0</td>\n",
       "    </tr>\n",
       "    <tr>\n",
       "      <th>4</th>\n",
       "      <td>0</td>\n",
       "      <td>137</td>\n",
       "      <td>40</td>\n",
       "      <td>35</td>\n",
       "      <td>168</td>\n",
       "      <td>43.1</td>\n",
       "      <td>2.288</td>\n",
       "      <td>33</td>\n",
       "      <td>1</td>\n",
       "    </tr>\n",
       "    <tr>\n",
       "      <th>...</th>\n",
       "      <td>...</td>\n",
       "      <td>...</td>\n",
       "      <td>...</td>\n",
       "      <td>...</td>\n",
       "      <td>...</td>\n",
       "      <td>...</td>\n",
       "      <td>...</td>\n",
       "      <td>...</td>\n",
       "      <td>...</td>\n",
       "    </tr>\n",
       "    <tr>\n",
       "      <th>763</th>\n",
       "      <td>10</td>\n",
       "      <td>101</td>\n",
       "      <td>76</td>\n",
       "      <td>48</td>\n",
       "      <td>180</td>\n",
       "      <td>32.9</td>\n",
       "      <td>0.171</td>\n",
       "      <td>63</td>\n",
       "      <td>0</td>\n",
       "    </tr>\n",
       "    <tr>\n",
       "      <th>764</th>\n",
       "      <td>2</td>\n",
       "      <td>122</td>\n",
       "      <td>70</td>\n",
       "      <td>27</td>\n",
       "      <td>0</td>\n",
       "      <td>36.8</td>\n",
       "      <td>0.340</td>\n",
       "      <td>27</td>\n",
       "      <td>0</td>\n",
       "    </tr>\n",
       "    <tr>\n",
       "      <th>765</th>\n",
       "      <td>5</td>\n",
       "      <td>121</td>\n",
       "      <td>72</td>\n",
       "      <td>23</td>\n",
       "      <td>112</td>\n",
       "      <td>26.2</td>\n",
       "      <td>0.245</td>\n",
       "      <td>30</td>\n",
       "      <td>0</td>\n",
       "    </tr>\n",
       "    <tr>\n",
       "      <th>766</th>\n",
       "      <td>1</td>\n",
       "      <td>126</td>\n",
       "      <td>60</td>\n",
       "      <td>0</td>\n",
       "      <td>0</td>\n",
       "      <td>30.1</td>\n",
       "      <td>0.349</td>\n",
       "      <td>47</td>\n",
       "      <td>1</td>\n",
       "    </tr>\n",
       "    <tr>\n",
       "      <th>767</th>\n",
       "      <td>1</td>\n",
       "      <td>93</td>\n",
       "      <td>70</td>\n",
       "      <td>31</td>\n",
       "      <td>0</td>\n",
       "      <td>30.4</td>\n",
       "      <td>0.315</td>\n",
       "      <td>23</td>\n",
       "      <td>0</td>\n",
       "    </tr>\n",
       "  </tbody>\n",
       "</table>\n",
       "<p>768 rows × 9 columns</p>\n",
       "</div>"
      ],
      "text/plain": [
       "     Pregnancies  Glucose  BloodPressure  SkinThickness  Insulin   BMI  \\\n",
       "0              6      148             72             35        0  33.6   \n",
       "1              1       85             66             29        0  26.6   \n",
       "2              8      183             64              0        0  23.3   \n",
       "3              1       89             66             23       94  28.1   \n",
       "4              0      137             40             35      168  43.1   \n",
       "..           ...      ...            ...            ...      ...   ...   \n",
       "763           10      101             76             48      180  32.9   \n",
       "764            2      122             70             27        0  36.8   \n",
       "765            5      121             72             23      112  26.2   \n",
       "766            1      126             60              0        0  30.1   \n",
       "767            1       93             70             31        0  30.4   \n",
       "\n",
       "     DiabetesPedigreeFunction  Age  Outcome  \n",
       "0                       0.627   50        1  \n",
       "1                       0.351   31        0  \n",
       "2                       0.672   32        1  \n",
       "3                       0.167   21        0  \n",
       "4                       2.288   33        1  \n",
       "..                        ...  ...      ...  \n",
       "763                     0.171   63        0  \n",
       "764                     0.340   27        0  \n",
       "765                     0.245   30        0  \n",
       "766                     0.349   47        1  \n",
       "767                     0.315   23        0  \n",
       "\n",
       "[768 rows x 9 columns]"
      ]
     },
     "execution_count": 3,
     "metadata": {},
     "output_type": "execute_result"
    }
   ],
   "source": [
    "df"
   ]
  },
  {
   "cell_type": "markdown",
   "metadata": {},
   "source": [
    "À première vue, nous avons accès aux informations suivantes :\n",
    "- Pregnancies : Le nombre de fois où la personne a été enceinte.\n",
    "- Glucose : La concentration de glucose dans le sang 2 heures après un test de tolérance au glucose.\n",
    "- BloodPressure : La pression sanguine en mm HG.\n",
    "- SkinThickness : L'épaisseur de la peau au niveau du triceps en mm.\n",
    "- Insulin : Le taux d'insuline dans un serum en mu U/ml.\n",
    "- BMI : L'indice de masse corporelle (IMC) en kg/m^2.\n",
    "- DiabetesPedigreeFunction : Une fonction sur les antécédents diabétiques.\n",
    "- Age : L'âge de la personne.\n",
    "- Outcome : Si la personne est diabétique (1) ou non (0).\n",
    "\n",
    "Je ne sais pas si vous vous posez la même question que moi, mais la voici :  \n",
    "*Sommes nous capables de savoir quel(s) est/sont le(s) facteur(s) qui impact le plus le fait d'être diabétique ?*\n",
    "\n",
    "Pour avoir une réponse je vous propose que l'on construise un modèle tout simple qui se base sur cette fonction :\n",
    "$$y_{Outcome} = \\beta_0 + \\beta_1 \\times x_{Pregnancies} + \\beta_2 \\times x_{Glucose} + \\beta_3 \\times x_{BloodPressure} + \\beta_4 \\times x_{SkinThickness} + \\beta_5 \\times x_{Insulin} + \\beta_6 \\times x_{BMI} + \\beta_7 \\times x_{DiabetesPedigreeFunction} + \\beta_8 \\times x_{Age}$$\n",
    "avec $x$ notre exemple, $x_i$ la donnée de la mesure de $i$ de l'exemple et $\\beta_i$ le coefficient associé à la mesure.\n",
    "\n",
    "Vous l'aurez peut être compris, mais ce que l'on cherche à **apprendre**/**déterminer** sont les coefficients $\\beta$.\n",
    "\n",
    "**Remarque :**  \n",
    "Vous n'avez pas remarqué quelque chose ? La forme de l'équation précédente ne vous dit rien ? AH bah oui quand même !!!\n",
    "$$y = \\boldsymbol\\beta \\cdot \\textbf{x} + \\beta_0$$\n",
    "Une forme linéaire avec des vecteurs !"
   ]
  },
  {
   "cell_type": "code",
   "execution_count": 4,
   "metadata": {},
   "outputs": [
    {
     "name": "stdout",
     "output_type": "stream",
     "text": [
      "Notre modèle est arrivé à prédire correctement 76.62% cas de personne avec ou sans diabète.\n"
     ]
    }
   ],
   "source": [
    "X_data = df.drop(columns=['Outcome']).to_numpy()\n",
    "y_data = df['Outcome'].to_numpy()\n",
    "\n",
    "X_train, X_test, y_train, y_test = train_test_split(X_data, y_data, test_size=0.2, random_state=10)\n",
    "\n",
    "lr_model = LogisticRegression()\n",
    "lr_model = lr_model.fit(X_train, y_train)\n",
    "\n",
    "mean_acc = lr_model.score(X_test, y_test)\n",
    "\n",
    "print(f\"Notre modèle est arrivé à prédire correctement {mean_acc*100:0.2f}% cas de personne avec ou sans diabète.\")"
   ]
  },
  {
   "cell_type": "markdown",
   "metadata": {},
   "source": [
    "C'est pas mal mais cela devrait suffire pour essayer de comprendre quels seraient les facteurs potentiels qui impacteraient le plus sur le diabète.  \n",
    "Pour déterminer les facteurs importants nous allons nous pencher vers les coefficients. Le facteur qui aura la valeur la plus élevée nous indiquera celle qui va faire en sorte que notre prédiction tende vers 1, autrement dit vers la présence du diabète."
   ]
  },
  {
   "cell_type": "code",
   "execution_count": 5,
   "metadata": {},
   "outputs": [
    {
     "data": {
      "text/plain": [
       "array([[ 0.08943846,  0.03524706, -0.01167035,  0.00871026, -0.00136943,\n",
       "         0.07400415,  0.68322278,  0.02510982]])"
      ]
     },
     "execution_count": 5,
     "metadata": {},
     "output_type": "execute_result"
    }
   ],
   "source": [
    "lr_model.coef_"
   ]
  },
  {
   "cell_type": "markdown",
   "metadata": {},
   "source": [
    "Un coefficient semblent se démarquer des autres. Ce coefficient est attribué au facteur *DiabetesPedigreeFunction*. Plus cette valeur augmente, plus la probabilité d'être diabétique est élevé d'après le modèle."
   ]
  },
  {
   "cell_type": "markdown",
   "metadata": {},
   "source": [
    "### Deuxième étude : Les nombres et les réseaux de neurones\n",
    "\n",
    "Dans ce deuxième cas, nous allons plus nous pencher sur l'apprentissage d'un réseau de neurones avec un petit exemple classique : la reconnaissance du chiffre dans l'image présentée."
   ]
  },
  {
   "cell_type": "code",
   "execution_count": 6,
   "metadata": {},
   "outputs": [],
   "source": [
    "%%capture mnist_download\n",
    "\n",
    "# Téléchargement des données\n",
    "mnist_dataset = MNIST(root=\"../../data/\", download=True, transform=ToTensor())"
   ]
  },
  {
   "cell_type": "markdown",
   "metadata": {},
   "source": [
    "Maintenant que nous avons téléchargé, puis chargé les données dans notre variable `mnist_dataset`, observons les données que nous avons afin de savoir à quoi s'attendre !"
   ]
  },
  {
   "cell_type": "code",
   "execution_count": 7,
   "metadata": {},
   "outputs": [],
   "source": [
    "image, _ = mnist_dataset[0]"
   ]
  },
  {
   "cell_type": "code",
   "execution_count": 8,
   "metadata": {},
   "outputs": [
    {
     "data": {
      "image/png": "[encoded data removed]",
      "text/plain": [
       "<Figure size 1800x720 with 12 Axes>"
      ]
     },
     "metadata": {
      "needs_background": "light"
     },
     "output_type": "display_data"
    }
   ],
   "source": [
    "fig = plt.figure(figsize=(25, 10))\n",
    "columns = 4\n",
    "rows = 3\n",
    "\n",
    "random_indexes = random.sample(\n",
    "    list(\n",
    "        range(len(mnist_dataset))\n",
    "    ), k=columns * rows\n",
    ")\n",
    "for i in range(columns * rows):\n",
    "    image, label = mnist_dataset[random_indexes[i]]\n",
    "    image = np.asarray(image.squeeze())\n",
    "    ax = fig.add_subplot(rows, columns, i+1)\n",
    "    ax.set_title(f\"Chiffre : {label}\", fontdict={'fontsize': 20})\n",
    "    plt.imshow(image)\n",
    "\n",
    "plt.subplots_adjust(hspace=0.5)\n",
    "plt.show()"
   ]
  },
  {
   "cell_type": "markdown",
   "metadata": {},
   "source": [
    "Nous savons maintenant à quoi ressemble nos données. Ce sont des images 28x28 pixels.  \n",
    "Maintenant réfléchissons à comment pouvons nous faire en sorte qu'un modèle mathématiques puisse les reconnaitre !"
   ]
  },
  {
   "cell_type": "code",
   "execution_count": 9,
   "metadata": {},
   "outputs": [],
   "source": [
    "class BaretNeuralNetwork(pl.LightningModule):\n",
    "    def __init__(self, image_height: int=28, image_width: int=28, outputs_number: int=10, **kwargs) -> None:\n",
    "        super(BaretNeuralNetwork, self).__init__(**kwargs)\n",
    "        self.linear = nn.Linear(in_features=image_height*image_width, out_features=outputs_number)\n",
    "        self.loss_function = nn.CrossEntropyLoss()\n",
    "        self.softmax = nn.Softmax(dim=1)\n",
    "    \n",
    "    def forward(self, flattened_image: torch.Tensor) -> torch.Tensor:\n",
    "        y = self.linear(flattened_image)\n",
    "        return y\n",
    "    \n",
    "    def configure_optimizers(self) -> torch.optim.Optimizer:\n",
    "        optimizer = torch.optim.SGD(self.parameters(), lr=1e-3)\n",
    "        return optimizer\n",
    "    \n",
    "    def training_step(self, train_batch: Tuple[torch.Tensor, torch.Tensor], batch_id: int) -> torch.Tensor:\n",
    "        images, targets = train_batch\n",
    "        images = images.flatten(start_dim=1)\n",
    "        outputs = self.linear(images)\n",
    "        loss = self.loss_function(outputs, targets)\n",
    "        self.log('train_loss', loss)\n",
    "        return loss\n",
    "\n",
    "    def _compute_accuracy(self, model_outputs: torch.Tensor, targets: torch.Tensor) -> float:\n",
    "        y = model_outputs.cpu()\n",
    "        y = self.softmax(y)\n",
    "        y = torch.argmax(y, dim=1)\n",
    "        return accuracy_score(targets.cpu(), y) * 100\n",
    "\n",
    "    def test_step(self, test_batch: Tuple[torch.Tensor, torch.Tensor], batch_id: int) -> torch.Tensor:\n",
    "        images, targets = test_batch\n",
    "        images = images.flatten(start_dim=1)\n",
    "        outputs = self.linear(images)\n",
    "        loss = self.loss_function(outputs, targets)\n",
    "        accuracy = self._compute_accuracy(outputs, targets)\n",
    "        self.log_dict({'test_loss': loss, 'test_accuracy': accuracy})\n",
    "        return loss\n",
    "\n",
    "    def predict_step(self, predict_batch: torch.Tensor, batch_id: int) -> torch.Tensor:\n",
    "        images = predict_batch\n",
    "        images = images.flatten(start_dim=1)\n",
    "        outputs = self.linear(images)\n",
    "        outputs_proba = self.softmax(outputs)\n",
    "        return torch.argmax(outputs_proba, dim=1)"
   ]
  },
  {
   "cell_type": "markdown",
   "metadata": {},
   "source": [
    "Configurons l'entrainement de notre modèle.  \n",
    "Premièrement, nous devons séparer notre jeu de données en plusieurs parties :\n",
    "- *Entrainement* : les données de cette partie sont utilisées pour entrainer notre modèle.\n",
    "- *Test* : nous les utilisons pour avoir un retour final après l'entrainement de notre modèle. C'est important de savoir si notre modèle a bien généralisé son apprentissage, c'est à dire qu'il ne performe pas uniquement sur les données vues à l'entrainement.\n",
    "- *Prédiction* : quelques exemples qui nous montreront ce que le modèle prédit sur quelques données à part."
   ]
  },
  {
   "cell_type": "code",
   "execution_count": 10,
   "metadata": {},
   "outputs": [
    {
     "name": "stderr",
     "output_type": "stream",
     "text": [
      "GPU available: True, used: True\n",
      "TPU available: False, using: 0 TPU cores\n",
      "IPU available: False, using: 0 IPUs\n",
      "HPU available: False, using: 0 HPUs\n"
     ]
    }
   ],
   "source": [
    "epochs = 20 # Nombre de fois que le modèle va voir les données d'entrainement (en entier)\n",
    "train_ratio, test_ratio, predict_ratio = (0.8, 0.1, 0.1)\n",
    "total_size = len(mnist_dataset)\n",
    "train_size = int(train_ratio * total_size)\n",
    "test_size = int(test_ratio * total_size)\n",
    "predict_size = total_size - train_size - test_size\n",
    "\n",
    "train_set, test_set, predict_set = random_split(mnist_dataset, [train_size, test_size, predict_size], generator=torch.Generator().manual_seed(42))\n",
    "train_loader = DataLoader(train_set, batch_size=64, shuffle=False, num_workers=4)\n",
    "test_loader = DataLoader(test_set, batch_size=64, shuffle=False, num_workers=4)\n",
    "\n",
    "accelerator = 'gpu' if torch.cuda.is_available() else 'cpu'\n",
    "trainer = pl.Trainer(max_epochs=epochs, accelerator=accelerator, enable_checkpointing=False)\n",
    "\n",
    "model = BaretNeuralNetwork(image_height=28, image_width=28, outputs_number=10)"
   ]
  },
  {
   "cell_type": "markdown",
   "metadata": {},
   "source": [
    "#### Entrainement"
   ]
  },
  {
   "cell_type": "code",
   "execution_count": 11,
   "metadata": {},
   "outputs": [
    {
     "name": "stderr",
     "output_type": "stream",
     "text": [
      "LOCAL_RANK: 0 - CUDA_VISIBLE_DEVICES: [0]\n",
      "\n",
      "  | Name          | Type             | Params\n",
      "---------------------------------------------------\n",
      "0 | linear        | Linear           | 7.9 K \n",
      "1 | loss_function | CrossEntropyLoss | 0     \n",
      "2 | softmax       | Softmax          | 0     \n",
      "---------------------------------------------------\n",
      "7.9 K     Trainable params\n",
      "0         Non-trainable params\n",
      "7.9 K     Total params\n",
      "0.031     Total estimated model params size (MB)\n"
     ]
    },
    {
     "name": "stdout",
     "output_type": "stream",
     "text": [
      "Epoch 19: 100%|██████████| 750/750 [00:05<00:00, 128.78it/s, loss=0.528, v_num=6]\n"
     ]
    }
   ],
   "source": [
    "trainer.fit(model, train_dataloaders=train_loader)"
   ]
  },
  {
   "cell_type": "markdown",
   "metadata": {},
   "source": [
    "#### Test"
   ]
  },
  {
   "cell_type": "code",
   "execution_count": 12,
   "metadata": {},
   "outputs": [
    {
     "name": "stderr",
     "output_type": "stream",
     "text": [
      "LOCAL_RANK: 0 - CUDA_VISIBLE_DEVICES: [0]\n"
     ]
    },
    {
     "name": "stdout",
     "output_type": "stream",
     "text": [
      "Testing DataLoader 0: 100%|██████████| 94/94 [00:00<00:00, 210.31it/s]\n",
      "────────────────────────────────────────────────────────────────────────────────────────────────────────────────────────\n",
      "       Test metric             DataLoader 0\n",
      "────────────────────────────────────────────────────────────────────────────────────────────────────────────────────────\n",
      "      test_accuracy          86.61666666666666\n",
      "        test_loss           0.5470705628395081\n",
      "────────────────────────────────────────────────────────────────────────────────────────────────────────────────────────\n"
     ]
    },
    {
     "data": {
      "text/plain": [
       "[{'test_loss': 0.5470705628395081, 'test_accuracy': 86.61666666666666}]"
      ]
     },
     "execution_count": 12,
     "metadata": {},
     "output_type": "execute_result"
    }
   ],
   "source": [
    "trainer.test(model, dataloaders=test_loader)"
   ]
  },
  {
   "cell_type": "markdown",
   "metadata": {},
   "source": [
    "Nous passons à l'analyse des poids, pour comprendre ce que notre modèle a appris au niveau des pixels !"
   ]
  },
  {
   "cell_type": "code",
   "execution_count": 40,
   "metadata": {},
   "outputs": [
    {
     "data": {
      "image/png": "[encoded data removed]",
      "text/plain": [
       "<Figure size 1800x720 with 11 Axes>"
      ]
     },
     "metadata": {
      "needs_background": "light"
     },
     "output_type": "display_data"
    }
   ],
   "source": [
    "weights = model.linear.weight.detach() # Les paramètres du réseau qui ont été appris\n",
    "vmin = weights.min()\n",
    "vmax = weights.max()\n",
    "\n",
    "fig = plt.figure(figsize=(25, 10))\n",
    "columns = 5\n",
    "rows = 2\n",
    "\n",
    "for i in range(columns * rows):\n",
    "    image = weights[i].view(28, 28)\n",
    "    ax = fig.add_subplot(rows, columns, i+1)\n",
    "    ax.set_title(f\"Chiffre : {i}\", fontdict={'fontsize': 20})\n",
    "    img_map = plt.imshow(image, vmin=vmin, vmax=vmax, cmap='jet', aspect='auto')\n",
    "\n",
    "plt.subplots_adjust(hspace=0.5)\n",
    "fig.colorbar(img_map, ax=fig.axes, shrink=0.75)\n",
    "plt.show()"
   ]
  },
  {
   "cell_type": "markdown",
   "metadata": {},
   "source": [
    "\\# TODO : Ajouter une explication de l'architecture avec une courte explication mathématiques"
   ]
  },
  {
   "cell_type": "code",
   "execution_count": null,
   "metadata": {},
   "outputs": [],
   "source": []
  },
  {
   "cell_type": "code",
   "execution_count": null,
   "metadata": {},
   "outputs": [],
   "source": []
  },
  {
   "cell_type": "code",
   "execution_count": null,
   "metadata": {},
   "outputs": [],
   "source": []
  },
  {
   "cell_type": "code",
   "execution_count": null,
   "metadata": {},
   "outputs": [],
   "source": []
  },
  {
   "cell_type": "code",
   "execution_count": null,
   "metadata": {},
   "outputs": [],
   "source": []
  }
 ],
 "metadata": {
  "interpreter": {
   "hash": "90bd51f7c12049001d21e46f5a505cfb5494aab2ee0ad514c9c030a096e1519d"
  },
  "kernelspec": {
   "display_name": "Python 3.9.6 ('introduction-ia-terminale-FEK24HKi-py3.9')",
   "language": "python",
   "name": "python3"
  },
  "language_info": {
   "codemirror_mode": {
    "name": "ipython",
    "version": 3
   },
   "file_extension": ".py",
   "mimetype": "text/x-python",
   "name": "python",
   "nbconvert_exporter": "python",
   "pygments_lexer": "ipython3",
   "version": "3.9.12"
  },
  "orig_nbformat": 4
 },
 "nbformat": 4,
 "nbformat_minor": 2
}
